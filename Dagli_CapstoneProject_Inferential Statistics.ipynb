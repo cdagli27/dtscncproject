{
 "cells": [
  {
   "cell_type": "code",
   "execution_count": 1,
   "metadata": {},
   "outputs": [],
   "source": [
    "import pandas as pd\n",
    "import numpy as np\n",
    "import matplotlib.pyplot as plt \n",
    "import seaborn as sns"
   ]
  },
  {
   "cell_type": "code",
   "execution_count": 26,
   "metadata": {
    "scrolled": true
   },
   "outputs": [
    {
     "name": "stdout",
     "output_type": "stream",
     "text": [
      "(10257, 53)\n"
     ]
    }
   ],
   "source": [
    "df = pd.read_csv('/Users/cesurdagli/Desktop/Capstone Project/Feb17NoNull_Merged.csv')\n",
    "print(df.shape)\n"
   ]
  },
  {
   "cell_type": "code",
   "execution_count": 3,
   "metadata": {},
   "outputs": [],
   "source": [
    "df=df.drop(['Unnamed: 0'], axis=1)"
   ]
  },
  {
   "cell_type": "markdown",
   "metadata": {},
   "source": [
    "# Infrential Statistics \n",
    "    Are there variables that are particularly significant in terms of explaining the answer to your project question?\n",
    "\n",
    "\n",
    "    Are there strong correlations between pairs of independent variables or between an independent and a dependent variable?\n",
    "\n",
    "    What are the most appropriate tests to use to analyse these relationships?"
   ]
  },
  {
   "cell_type": "markdown",
   "metadata": {},
   "source": [
    "In my project, the variables created to meet the theory of First Principles of Instruction are significant to check the relationship between those variables and student result. According to the theory, those who experience First Principles of Instruction are more likely to have better scores compared to those who don't. Therefore, I create a new column called fpi for those who stated they experience First Principles of Instruction by calculating each score of ['ave_authenticProblems', 'ave_activation', 'ave_demonstration', 'ave_application','ave_integration'] grater than 3.5 so that I can conclude that those with score grater than 3.5 experienced the First Principles of Instruction."
   ]
  },
  {
   "cell_type": "code",
   "execution_count": 27,
   "metadata": {},
   "outputs": [],
   "source": [
    "df['fpi']=['yes' if df['ave_activation'][b]>3.5 and df['ave_authenticProblems'][b]>3.5 and df['ave_demonstration'][b]>3.5 and df['ave_application'][b]>3.5 and df['ave_integration'][b]>3.5 else 'no' if df['ave_activation'][b]<=3.5 and df['ave_authenticProblems'][b]<=3.5 and df['ave_demonstration'][b]<=3.5 and df['ave_application'][b]<=3.5 and df['ave_integration'][b]<=3.5 else 'partially' for b in range(len(df))]\n"
   ]
  },
  {
   "cell_type": "markdown",
   "metadata": {},
   "source": [
    "# Anova\n",
    "Now, I would like to run some infrential statistics. First, I would like to run one-way ANOVA to compare means of a continuous variable in two or more independent comparison groups. The hypothesis are as follows\n",
    "\n",
    "H0: There is no difference among students with confident, some, and little level knowledge in the GR group based on their test duration, number of right questions, satisfaction with the tutorial respectively.\n",
    "\n",
    "H1: There is a significant difference among group means.\n"
   ]
  },
  {
   "cell_type": "code",
   "execution_count": 5,
   "metadata": {},
   "outputs": [
    {
     "name": "stdout",
     "output_type": "stream",
     "text": [
      "(2869, 53)\n",
      "(7388, 53)\n"
     ]
    }
   ],
   "source": [
    "#Spliting the dataframe into two sub datasetes based on GR and UG level\n",
    "gr_df=df[df['testLevel']=='GR']\n",
    "print(gr_df.shape)\n",
    "ug_df=df[df['testLevel']=='UG']\n",
    "print(ug_df.shape)"
   ]
  },
  {
   "cell_type": "code",
   "execution_count": 6,
   "metadata": {},
   "outputs": [
    {
     "name": "stdout",
     "output_type": "stream",
     "text": [
      "F_onewayResult(statistic=2.8115178020814375, pvalue=0.060285424876925564)\n",
      "F_onewayResult(statistic=21.809049125370194, pvalue=4.002470700440738e-10)\n",
      "F_onewayResult(statistic=2.621216016118097, pvalue=0.07289494126703458)\n"
     ]
    }
   ],
   "source": [
    "from scipy import stats\n",
    "\n",
    "# Run Anova tests for the GR group, first.\n",
    "# Check whether or not any of the group means of test durations differ from one another in GR group\n",
    "print(stats.f_oneway(gr_df[gr_df['level']=='confident']['testDuration'], gr_df[gr_df['level']=='some']['testDuration'],gr_df[gr_df['level']=='little']['testDuration']))\n",
    "\n",
    "# Check whether or not any of the group means of right questions differ from one another in GR group\n",
    "print(stats.f_oneway(gr_df[gr_df['level']=='confident']['right_question'], gr_df[gr_df['level']=='some']['right_question'],gr_df[gr_df['level']=='little']['right_question']))\n",
    "\n",
    "# Check whether or not any of the group means of satisfaction differ from one another GR group\n",
    "print(stats.f_oneway(gr_df[gr_df['level']=='confident']['ave_quality_Satisfaction'], gr_df[gr_df['level']=='some']['ave_quality_Satisfaction'],gr_df[gr_df['level']=='little']['ave_quality_Satisfaction']))\n"
   ]
  },
  {
   "cell_type": "markdown",
   "metadata": {},
   "source": [
    "I reject H0 for the second test. I have statistically significant evidence at α=0.05 to show that there is a difference in number of right questions among the three level of knowledge. I failed to reject H0 for first one and third one so that I I do not have statistically significant evidence at α=0.05 to show that there is a difference in test durations and satisfaction with tutorial. However, we don’t know where the difference between groups is yet so that I calculated the multiple t-tests. The T tests below showed that there are significant differences in the number of right questions between students with different knowledge level.\n"
   ]
  },
  {
   "cell_type": "code",
   "execution_count": 7,
   "metadata": {
    "scrolled": true
   },
   "outputs": [
    {
     "name": "stdout",
     "output_type": "stream",
     "text": [
      "The results of the independent t-test are: \n",
      "\tt-value = 4.967\n",
      "\tp-value = 0.000\n"
     ]
    }
   ],
   "source": [
    "ind_t_test=stats.ttest_ind(gr_df[gr_df['level']=='confident']['right_question'],gr_df[gr_df['level']=='some']['right_question'])\n",
    "print('The results of the independent t-test are: \\n\\tt-value = {:4.3f}\\n\\tp-value = {:4.3f}'.format(ind_t_test[0],ind_t_test[1]))"
   ]
  },
  {
   "cell_type": "code",
   "execution_count": 8,
   "metadata": {},
   "outputs": [
    {
     "name": "stdout",
     "output_type": "stream",
     "text": [
      "The results of the independent t-test are: \n",
      "\tt-value = 4.994\n",
      "\tp-value = 0.000\n"
     ]
    }
   ],
   "source": [
    "ind_t_test=stats.ttest_ind(gr_df[gr_df['level']=='confident']['right_question'],gr_df[gr_df['level']=='little']['right_question'])\n",
    "print('The results of the independent t-test are: \\n\\tt-value = {:4.3f}\\n\\tp-value = {:4.3f}'.format(ind_t_test[0],ind_t_test[1]))"
   ]
  },
  {
   "cell_type": "code",
   "execution_count": 9,
   "metadata": {
    "scrolled": false
   },
   "outputs": [
    {
     "name": "stdout",
     "output_type": "stream",
     "text": [
      "The results of the independent t-test are: \n",
      "\tt-value = 3.676\n",
      "\tp-value = 0.000\n"
     ]
    }
   ],
   "source": [
    "ind_t_test=stats.ttest_ind(gr_df[gr_df['level']=='some']['right_question'],gr_df[gr_df['level']=='little']['right_question'])\n",
    "print('The results of the independent t-test are: \\n\\tt-value = {:4.3f}\\n\\tp-value = {:4.3f}'.format(ind_t_test[0],ind_t_test[1]))"
   ]
  },
  {
   "cell_type": "code",
   "execution_count": 10,
   "metadata": {},
   "outputs": [
    {
     "name": "stdout",
     "output_type": "stream",
     "text": [
      "7.216987865810135\n",
      "6.848167539267016\n",
      "5.53125\n"
     ]
    }
   ],
   "source": [
    "# Below I wanted to check the average number of rigth questions for student with confident, some, and little knowledge in the GR group.\n",
    "print(gr_df[gr_df['level']=='confident']['right_question'].mean())\n",
    "print(gr_df[gr_df['level']=='some']['right_question'].mean())\n",
    "print(gr_df[gr_df['level']=='little']['right_question'].mean())"
   ]
  },
  {
   "cell_type": "code",
   "execution_count": null,
   "metadata": {},
   "outputs": [],
   "source": []
  },
  {
   "cell_type": "code",
   "execution_count": 11,
   "metadata": {},
   "outputs": [
    {
     "name": "stdout",
     "output_type": "stream",
     "text": [
      "F_onewayResult(statistic=2.0349745984723016, pvalue=0.1307604599473568)\n",
      "F_onewayResult(statistic=37.3129143070894, pvalue=7.590398905584018e-17)\n",
      "F_onewayResult(statistic=30.59384823663756, pvalue=5.895422160775933e-14)\n"
     ]
    }
   ],
   "source": [
    "# Annova tests for the UG group\n",
    "# Check whether or not any of the group means of test durations differ from one another based on knowledge level in UG group\n",
    "print(stats.f_oneway(ug_df[ug_df['level']=='confident']['testDuration'], ug_df[ug_df['level']=='some']['testDuration'],ug_df[ug_df['level']=='little']['testDuration']))\n",
    "\n",
    "print(stats.f_oneway(ug_df[ug_df['level']=='confident']['right_question'], ug_df[ug_df['level']=='some']['right_question'],ug_df[ug_df['level']=='little']['right_question']))\n",
    "\n",
    "print(stats.f_oneway(ug_df[ug_df['level']=='confident']['ave_quality_Satisfaction'], ug_df[ug_df['level']=='some']['ave_quality_Satisfaction'],ug_df[ug_df['level']=='little']['ave_quality_Satisfaction']))\n"
   ]
  },
  {
   "cell_type": "markdown",
   "metadata": {},
   "source": [
    "I reject H0 for the second and third test. I have statistically significant evidence at α=0.05 to show that there is a difference in number of right questions and satisfaction with the tutorial among students with the three level of knowledge. I failed to reject H0 for firstso that I I do not have statistically significant evidence at α=0.05 to show that there is a difference in test durations students with three level of konwledge."
   ]
  },
  {
   "cell_type": "code",
   "execution_count": 12,
   "metadata": {},
   "outputs": [
    {
     "name": "stdout",
     "output_type": "stream",
     "text": [
      "The results of the independent t-test are: \n",
      "\tt-value = 5.652\n",
      "\tp-value = 0.000\n"
     ]
    }
   ],
   "source": [
    "ind_t_test=stats.ttest_ind(ug_df[ug_df['level']=='confident']['right_question'],ug_df[ug_df['level']=='some']['right_question'])\n",
    "print('The results of the independent t-test are: \\n\\tt-value = {:4.3f}\\n\\tp-value = {:4.3f}'.format(ind_t_test[0],ind_t_test[1]))"
   ]
  },
  {
   "cell_type": "code",
   "execution_count": 13,
   "metadata": {},
   "outputs": [
    {
     "name": "stdout",
     "output_type": "stream",
     "text": [
      "The results of the independent t-test are: \n",
      "\tt-value = 7.261\n",
      "\tp-value = 0.000\n"
     ]
    }
   ],
   "source": [
    "ind_t_test=stats.ttest_ind(ug_df[ug_df['level']=='confident']['right_question'],ug_df[ug_df['level']=='little']['right_question'])\n",
    "print('The results of the independent t-test are: \\n\\tt-value = {:4.3f}\\n\\tp-value = {:4.3f}'.format(ind_t_test[0],ind_t_test[1]))"
   ]
  },
  {
   "cell_type": "code",
   "execution_count": 14,
   "metadata": {},
   "outputs": [
    {
     "name": "stdout",
     "output_type": "stream",
     "text": [
      "The results of the independent t-test are: \n",
      "\tt-value = 5.651\n",
      "\tp-value = 0.000\n"
     ]
    }
   ],
   "source": [
    "ind_t_test=stats.ttest_ind(ug_df[ug_df['level']=='some']['right_question'],ug_df[ug_df['level']=='little']['right_question'])\n",
    "print('The results of the independent t-test are: \\n\\tt-value = {:4.3f}\\n\\tp-value = {:4.3f}'.format(ind_t_test[0],ind_t_test[1]))"
   ]
  },
  {
   "cell_type": "code",
   "execution_count": 15,
   "metadata": {},
   "outputs": [
    {
     "name": "stdout",
     "output_type": "stream",
     "text": [
      "6.887795275590551\n",
      "6.612263033175355\n",
      "5.576923076923077\n"
     ]
    }
   ],
   "source": [
    "# Below I wanted to check the average number of rigth questions for student with confident, some, and little knowledge in the UG group.\n",
    "print(ug_df[ug_df['level']=='confident']['right_question'].mean())\n",
    "print(ug_df[ug_df['level']=='some']['right_question'].mean())\n",
    "print(ug_df[ug_df['level']=='little']['right_question'].mean())"
   ]
  },
  {
   "cell_type": "code",
   "execution_count": 16,
   "metadata": {},
   "outputs": [
    {
     "name": "stdout",
     "output_type": "stream",
     "text": [
      "The results of the independent t-test are: \n",
      "\tt-value = 5.105\n",
      "\tp-value = 0.000\n"
     ]
    }
   ],
   "source": [
    "ind_t_test=stats.ttest_ind(ug_df[ug_df['level']=='confident']['ave_quality_Satisfaction'],ug_df[ug_df['level']=='some']['ave_quality_Satisfaction'])\n",
    "print('The results of the independent t-test are: \\n\\tt-value = {:4.3f}\\n\\tp-value = {:4.3f}'.format(ind_t_test[0],ind_t_test[1]))"
   ]
  },
  {
   "cell_type": "code",
   "execution_count": 17,
   "metadata": {},
   "outputs": [
    {
     "name": "stdout",
     "output_type": "stream",
     "text": [
      "The results of the independent t-test are: \n",
      "\tt-value = 6.369\n",
      "\tp-value = 0.000\n"
     ]
    }
   ],
   "source": [
    "ind_t_test=stats.ttest_ind(ug_df[ug_df['level']=='confident']['ave_quality_Satisfaction'],ug_df[ug_df['level']=='little']['ave_quality_Satisfaction'])\n",
    "print('The results of the independent t-test are: \\n\\tt-value = {:4.3f}\\n\\tp-value = {:4.3f}'.format(ind_t_test[0],ind_t_test[1]))"
   ]
  },
  {
   "cell_type": "code",
   "execution_count": 18,
   "metadata": {},
   "outputs": [
    {
     "name": "stdout",
     "output_type": "stream",
     "text": [
      "The results of the independent t-test are: \n",
      "\tt-value = 5.318\n",
      "\tp-value = 0.000\n"
     ]
    }
   ],
   "source": [
    "ind_t_test=stats.ttest_ind(ug_df[ug_df['level']=='some']['ave_quality_Satisfaction'],ug_df[ug_df['level']=='little']['ave_quality_Satisfaction'])\n",
    "print('The results of the independent t-test are: \\n\\tt-value = {:4.3f}\\n\\tp-value = {:4.3f}'.format(ind_t_test[0],ind_t_test[1]))"
   ]
  },
  {
   "cell_type": "code",
   "execution_count": 19,
   "metadata": {},
   "outputs": [
    {
     "name": "stdout",
     "output_type": "stream",
     "text": [
      "3.814187289088864\n",
      "3.7217120853080567\n",
      "3.371153846153846\n"
     ]
    }
   ],
   "source": [
    "print(ug_df[ug_df['level']=='confident']['ave_quality_Satisfaction'].mean())\n",
    "print(ug_df[ug_df['level']=='some']['ave_quality_Satisfaction'].mean())\n",
    "print(ug_df[ug_df['level']=='little']['ave_quality_Satisfaction'].mean())"
   ]
  },
  {
   "cell_type": "code",
   "execution_count": null,
   "metadata": {},
   "outputs": [],
   "source": []
  },
  {
   "cell_type": "markdown",
   "metadata": {},
   "source": [
    "## Chi Square Test\n",
    "\n",
    "Now, I would also like to run Chi Square test to check the relationship between categroical variables. My hypothesis:\n",
    "\n",
    "H0: There is no statistically significant relationship between test result and experiencing first principles of instruction.\n",
    "\n",
    "H1: There is a statistically significant relationship between test results and  experiencing first principles of instruction.\n",
    "\n",
    "The next step is to format the data into a frequency count table by using the pd.crosstab() function in pandas."
   ]
  },
  {
   "cell_type": "code",
   "execution_count": 20,
   "metadata": {},
   "outputs": [
    {
     "data": {
      "text/html": [
       "<div>\n",
       "<style scoped>\n",
       "    .dataframe tbody tr th:only-of-type {\n",
       "        vertical-align: middle;\n",
       "    }\n",
       "\n",
       "    .dataframe tbody tr th {\n",
       "        vertical-align: top;\n",
       "    }\n",
       "\n",
       "    .dataframe thead th {\n",
       "        text-align: right;\n",
       "    }\n",
       "</style>\n",
       "<table border=\"1\" class=\"dataframe\">\n",
       "  <thead>\n",
       "    <tr style=\"text-align: right;\">\n",
       "      <th>fpi</th>\n",
       "      <th>no</th>\n",
       "      <th>partially</th>\n",
       "      <th>yes</th>\n",
       "      <th>All</th>\n",
       "    </tr>\n",
       "    <tr>\n",
       "      <th>pass_fail</th>\n",
       "      <th></th>\n",
       "      <th></th>\n",
       "      <th></th>\n",
       "      <th></th>\n",
       "    </tr>\n",
       "  </thead>\n",
       "  <tbody>\n",
       "    <tr>\n",
       "      <th>FAIL</th>\n",
       "      <td>143</td>\n",
       "      <td>701</td>\n",
       "      <td>1294</td>\n",
       "      <td>2138</td>\n",
       "    </tr>\n",
       "    <tr>\n",
       "      <th>PASS</th>\n",
       "      <td>12</td>\n",
       "      <td>210</td>\n",
       "      <td>509</td>\n",
       "      <td>731</td>\n",
       "    </tr>\n",
       "    <tr>\n",
       "      <th>All</th>\n",
       "      <td>155</td>\n",
       "      <td>911</td>\n",
       "      <td>1803</td>\n",
       "      <td>2869</td>\n",
       "    </tr>\n",
       "  </tbody>\n",
       "</table>\n",
       "</div>"
      ],
      "text/plain": [
       "fpi         no  partially   yes   All\n",
       "pass_fail                            \n",
       "FAIL       143        701  1294  2138\n",
       "PASS        12        210   509   731\n",
       "All        155        911  1803  2869"
      ]
     },
     "execution_count": 20,
     "metadata": {},
     "output_type": "execute_result"
    }
   ],
   "source": [
    "# Constructing the Contingency Table for the GR group to summarize the relationship \n",
    "#between several categorical variables.\n",
    "contingency_table = pd.crosstab(\n",
    "    gr_df['pass_fail'],\n",
    "    gr_df['fpi'],\n",
    "    margins = True\n",
    ")\n",
    "contingency_table"
   ]
  },
  {
   "cell_type": "code",
   "execution_count": 21,
   "metadata": {},
   "outputs": [
    {
     "data": {
      "text/plain": [
       "array([[ 143,  701, 1294, 2138],\n",
       "       [  12,  210,  509,  731]])"
      ]
     },
     "execution_count": 21,
     "metadata": {},
     "output_type": "execute_result"
    }
   ],
   "source": [
    "f_obs = np.array([contingency_table.iloc[0][:].values,\n",
    "                  contingency_table.iloc[1][:].values])\n",
    "f_obs"
   ]
  },
  {
   "cell_type": "code",
   "execution_count": 22,
   "metadata": {
    "scrolled": true
   },
   "outputs": [
    {
     "data": {
      "text/plain": [
       "(35.699454712664846, 8.668097054230568e-08, 3)"
      ]
     },
     "execution_count": 22,
     "metadata": {},
     "output_type": "execute_result"
    }
   ],
   "source": [
    "stats.chi2_contingency(f_obs)[0:3]"
   ]
  },
  {
   "cell_type": "markdown",
   "metadata": {},
   "source": [
    "The X2= ~36, p-value = ~0 and degrees of freedom = 3. As seen above, With a p-value < 0.05 , we can reject the null hypothesis. There is a statistically significant relationship between test results and First Principles of Instruction in the GR group. We don't know what this relationship is, but we do know that these two variables are not independent of each other."
   ]
  },
  {
   "cell_type": "markdown",
   "metadata": {},
   "source": [
    "As shown in contingency table, there were 1803 out of 2869 GR test takers who agreed with having experienced all of the first principles. Given that the antecedent condition was true, the consequent (student mastery is ‘Pass’), was true in 509 of the 1803 cases, which yields a probability estimate of 509/1803 or 0.282. Thus, 28.2% of students who were rated as high masters by a certification test reported that they also agreed that first principles were experienced when using the tutorial.\n",
    "\n",
    "Next the pattern was investigated where the antecedent condition was no agreement with having experienced first principles and where the consequent was high mastery.  For this pattern, the antecedent occurred 155 times, the consequent occurred in 12 of those 155 cases, for a probability estimate of 12/155 = 0.07. Thus, 7% of students who demonstrated high mastery of the objectives of the tutorial failed to agree that first principles occurred.  \n",
    "\n",
    "This finding can be further interpreted as follows: When students perceived that first principles occurred; they were more than four times as likely (0.282/0.07 = 4.02) to be high masters compared to those participants who did not agree that first principles were experienced in the tutorials.  \n",
    " "
   ]
  },
  {
   "cell_type": "code",
   "execution_count": 23,
   "metadata": {},
   "outputs": [
    {
     "data": {
      "text/html": [
       "<div>\n",
       "<style scoped>\n",
       "    .dataframe tbody tr th:only-of-type {\n",
       "        vertical-align: middle;\n",
       "    }\n",
       "\n",
       "    .dataframe tbody tr th {\n",
       "        vertical-align: top;\n",
       "    }\n",
       "\n",
       "    .dataframe thead th {\n",
       "        text-align: right;\n",
       "    }\n",
       "</style>\n",
       "<table border=\"1\" class=\"dataframe\">\n",
       "  <thead>\n",
       "    <tr style=\"text-align: right;\">\n",
       "      <th>fpi</th>\n",
       "      <th>no</th>\n",
       "      <th>partially</th>\n",
       "      <th>yes</th>\n",
       "      <th>All</th>\n",
       "    </tr>\n",
       "    <tr>\n",
       "      <th>pass_fail</th>\n",
       "      <th></th>\n",
       "      <th></th>\n",
       "      <th></th>\n",
       "      <th></th>\n",
       "    </tr>\n",
       "  </thead>\n",
       "  <tbody>\n",
       "    <tr>\n",
       "      <th>FAIL</th>\n",
       "      <td>906</td>\n",
       "      <td>2263</td>\n",
       "      <td>2627</td>\n",
       "      <td>5796</td>\n",
       "    </tr>\n",
       "    <tr>\n",
       "      <th>PASS</th>\n",
       "      <td>91</td>\n",
       "      <td>559</td>\n",
       "      <td>942</td>\n",
       "      <td>1592</td>\n",
       "    </tr>\n",
       "    <tr>\n",
       "      <th>All</th>\n",
       "      <td>997</td>\n",
       "      <td>2822</td>\n",
       "      <td>3569</td>\n",
       "      <td>7388</td>\n",
       "    </tr>\n",
       "  </tbody>\n",
       "</table>\n",
       "</div>"
      ],
      "text/plain": [
       "fpi         no  partially   yes   All\n",
       "pass_fail                            \n",
       "FAIL       906       2263  2627  5796\n",
       "PASS        91        559   942  1592\n",
       "All        997       2822  3569  7388"
      ]
     },
     "execution_count": 23,
     "metadata": {},
     "output_type": "execute_result"
    }
   ],
   "source": [
    "# Constructing the Contingency Table for the UG group\n",
    "contingency_table1 = pd.crosstab(\n",
    "    ug_df['pass_fail'],\n",
    "    ug_df['fpi'],\n",
    "    margins = True\n",
    ")\n",
    "contingency_table1"
   ]
  },
  {
   "cell_type": "code",
   "execution_count": 24,
   "metadata": {},
   "outputs": [
    {
     "data": {
      "text/plain": [
       "array([[ 906, 2263, 2627, 5796],\n",
       "       [  91,  559,  942, 1592]])"
      ]
     },
     "execution_count": 24,
     "metadata": {},
     "output_type": "execute_result"
    }
   ],
   "source": [
    "f_obs1 = np.array([contingency_table1.iloc[0][:].values,\n",
    "                  contingency_table1.iloc[1][:].values])\n",
    "f_obs1"
   ]
  },
  {
   "cell_type": "code",
   "execution_count": 25,
   "metadata": {},
   "outputs": [
    {
     "data": {
      "text/plain": [
       "(145.61173583275271, 2.32972136835883e-31, 3)"
      ]
     },
     "execution_count": 25,
     "metadata": {},
     "output_type": "execute_result"
    }
   ],
   "source": [
    "stats.chi2_contingency(f_obs1)[0:3]"
   ]
  },
  {
   "cell_type": "markdown",
   "metadata": {},
   "source": [
    "As seen above, With a p-value < 0.05 , we can reject the null hypothesis. There is a statistically significant relationship between test results and First Principles of Instruction in the UG group."
   ]
  },
  {
   "cell_type": "markdown",
   "metadata": {},
   "source": [
    "This can be also interpreted in this way: \n",
    "\n",
    "As shown in contingency table1, there were 3569 out of 7388 UG test takers who agreed with having experienced all of the first principles. Given that the antecedent condition was true, the consequent (student mastery is ‘Pass’), was true in 942 of the 3569 cases, which yields a probability estimate of 942/3569 or 0.263. Thus, 26.3% of students who were rated as high masters by a certification test reported that they also agreed that first principles were experienced when using the tutorial.\n",
    "\n",
    "Next the pattern was investigated where the antecedent condition was no agreement with having experienced first principles and where the consequent was high mastery.  For this pattern, the antecedent occurred 997 times, the consequent occurred in 91 of those 997 cases, for a probability estimate of 91/997 = 0.09. Thus, 9% of students who demonstrated high mastery of the objectives of the tutorial failed to agree that first principles occurred.  \n",
    "\n",
    "This finding can be further interpreted as follows: When students perceived that first principles occurred, **they were about three times as likely (0.263/0.09 = 2.92) to be high masters compared to those participants who did not agree that first principles were experienced in the tutorials.  \n",
    "\n",
    "\n"
   ]
  }
 ],
 "metadata": {
  "kernelspec": {
   "display_name": "Python 3",
   "language": "python",
   "name": "python3"
  },
  "language_info": {
   "codemirror_mode": {
    "name": "ipython",
    "version": 3
   },
   "file_extension": ".py",
   "mimetype": "text/x-python",
   "name": "python",
   "nbconvert_exporter": "python",
   "pygments_lexer": "ipython3",
   "version": "3.7.3"
  }
 },
 "nbformat": 4,
 "nbformat_minor": 2
}
